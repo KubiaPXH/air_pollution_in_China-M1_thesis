{
 "cells": [
  {
   "cell_type": "markdown",
   "metadata": {},
   "source": [
    "## Theme: Air Pollution in China\n",
    "\n",
    "## Title: Effectiveness of \"Air Pollution Prevention and Control Action Plan\": Comparison between key regions and other regions\n",
    "\n",
    "### Introduction:\n",
    "Because of the severse air pollution in the beginning of 2013, China implemented the \"Air Pollution Prevention and Control Action Plan\" (APPCAP) in sept 2013 in all China with the main focus on 3 key regions: Beijing-Tianjin-Hebei, Yangtze River delta and Pearl River delta. \n",
    "\n",
    "In this thesis we want to use the Diff-in-Diffs model to verify if the more intense policy in the 3 key regions help to get better result than the others regions in China. Our hypothese is:\n",
    "\n",
    "**Ho:** \"The more intense policies implemented of key regions are more effective in reducing the air pollution than the less intense policies of others regions\"\n",
    "\n",
    "### Data:\n",
    "We use the data of 3 pollutant gases (PM10, SO2, NOx) of 30 cities in China, 8 cities in key regions and 22 cities in other regions from 2008 to 2017 to make the comparison."
   ]
  },
  {
   "cell_type": "markdown",
   "metadata": {},
   "source": [
    "### Call library"
   ]
  },
  {
   "cell_type": "code",
   "execution_count": 1,
   "metadata": {},
   "outputs": [
    {
     "name": "stderr",
     "output_type": "stream",
     "text": [
      "Warning message:\n",
      "\"package 'tidyverse' was built under R version 3.6.2\"-- Attaching packages --------------------------------------- tidyverse 1.3.0 --\n",
      "v ggplot2 3.2.1     v purrr   0.3.3\n",
      "v tibble  2.1.3     v dplyr   0.8.5\n",
      "v tidyr   1.0.0     v stringr 1.4.0\n",
      "v readr   1.3.1     v forcats 0.4.0\n",
      "Warning message:\n",
      "\"package 'tidyr' was built under R version 3.6.2\"Warning message:\n",
      "\"package 'dplyr' was built under R version 3.6.3\"-- Conflicts ------------------------------------------ tidyverse_conflicts() --\n",
      "x dplyr::filter() masks stats::filter()\n",
      "x dplyr::lag()    masks stats::lag()\n",
      "Warning message:\n",
      "\"package 'lfe' was built under R version 3.6.3\"Loading required package: Matrix\n",
      "\n",
      "Attaching package: 'Matrix'\n",
      "\n",
      "The following objects are masked from 'package:tidyr':\n",
      "\n",
      "    expand, pack, unpack\n",
      "\n",
      "\n",
      "Attaching package: 'magrittr'\n",
      "\n",
      "The following object is masked from 'package:purrr':\n",
      "\n",
      "    set_names\n",
      "\n",
      "The following object is masked from 'package:tidyr':\n",
      "\n",
      "    extract\n",
      "\n",
      "Loading required package: zoo\n",
      "\n",
      "Attaching package: 'zoo'\n",
      "\n",
      "The following objects are masked from 'package:base':\n",
      "\n",
      "    as.Date, as.Date.numeric\n",
      "\n",
      "\n",
      "Attaching package: 'lmtest'\n",
      "\n",
      "The following object is masked from 'package:lfe':\n",
      "\n",
      "    waldtest\n",
      "\n",
      "Warning message:\n",
      "\"package 'plm' was built under R version 3.6.3\"\n",
      "Attaching package: 'plm'\n",
      "\n",
      "The following object is masked from 'package:lfe':\n",
      "\n",
      "    sargan\n",
      "\n",
      "The following objects are masked from 'package:dplyr':\n",
      "\n",
      "    between, lag, lead\n",
      "\n",
      "\n",
      "Please cite as: \n",
      "\n",
      " Hlavac, Marek (2018). stargazer: Well-Formatted Regression and Summary Statistics Tables.\n",
      " R package version 5.2.2. https://CRAN.R-project.org/package=stargazer \n",
      "\n",
      "Warning message:\n",
      "\"package 'xtable' was built under R version 3.6.2\"\n",
      "Attaching package: 'data.table'\n",
      "\n",
      "The following object is masked from 'package:plm':\n",
      "\n",
      "    between\n",
      "\n",
      "The following objects are masked from 'package:dplyr':\n",
      "\n",
      "    between, first, last\n",
      "\n",
      "The following object is masked from 'package:purrr':\n",
      "\n",
      "    transpose\n",
      "\n",
      "Warning message:\n",
      "\"package 'clusterSEs' was built under R version 3.6.3\"Loading required package: AER\n",
      "Warning message:\n",
      "\"package 'AER' was built under R version 3.6.3\"Loading required package: car\n",
      "Loading required package: carData\n",
      "\n",
      "Attaching package: 'car'\n",
      "\n",
      "The following object is masked from 'package:dplyr':\n",
      "\n",
      "    recode\n",
      "\n",
      "The following object is masked from 'package:purrr':\n",
      "\n",
      "    some\n",
      "\n",
      "Loading required package: sandwich\n",
      "Loading required package: survival\n",
      "Loading required package: Formula\n",
      "\n",
      " When using this package, cite: \n",
      " \n",
      " Justin Esarey and Andrew Menger (2019). \n",
      " \"Practical and Effective Approaches to Dealing with Clustered Data.\" \n",
      " Political Science Research and Methods 7(3): 541-549. \n",
      " URL: https://doi.org/10.1017/psrm.2017.42. \n",
      "\n"
     ]
    }
   ],
   "source": [
    "library(tidyverse)\n",
    "library(lfe)\n",
    "library(magrittr)\n",
    "library(lmtest)\n",
    "library(plm)\n",
    "library(stargazer)\n",
    "library(xtable)\n",
    "library(data.table)\n",
    "library(clusterSEs)"
   ]
  },
  {
   "cell_type": "markdown",
   "metadata": {},
   "source": [
    "### Import Data:\n",
    "- import with correct type\n",
    "- covert character to factor\n",
    "- choose level of reference"
   ]
  },
  {
   "cell_type": "code",
   "execution_count": 2,
   "metadata": {},
   "outputs": [
    {
     "name": "stdout",
     "output_type": "stream",
     "text": [
      "Classes 'spec_tbl_df', 'tbl_df', 'tbl' and 'data.frame':\t300 obs. of  11 variables:\n",
      " $ city            : Factor w/ 30 levels \"Kunming\",\"Beijing\",..: 2 2 2 2 2 2 2 2 2 2 ...\n",
      " $ year            : Factor w/ 10 levels \"2013\",\"2008\",..: 2 3 4 5 6 1 7 8 9 10 ...\n",
      " $ PM10            : num  123 121 121 113 109 108 116 102 92 84 ...\n",
      " $ SO2             : num  36 34 32 28 29 26 22 14 10 8 ...\n",
      " $ NOx             : num  49 53 57 56 52 56 57 50 48 46 ...\n",
      " $ pop_density     : num  792 759 766 779 791 ...\n",
      " $ GRP_pc          : num  63029 70452 75943 81658 87475 ...\n",
      " $ total_gas_supply: num  601381 682839 719740 729608 924763 ...\n",
      " $ green_coveraged : num  37.1 47.7 55.1 51.6 51.9 ...\n",
      " $ post            : Factor w/ 2 levels \"0\",\"1\": 1 1 1 1 1 2 2 2 2 2 ...\n",
      " $ key_regions     : Factor w/ 2 levels \"0\",\"1\": 2 2 2 2 2 2 2 2 2 2 ...\n"
     ]
    }
   ],
   "source": [
    "url <- paste(\"https://raw.githubusercontent.com/KubiaPXH/Memoire-M1/\",\n",
    "             \"master/data/final_air_pollution_30cities.csv\",  sep=\"\")\n",
    "\n",
    "df_sd <- read.csv(url)\n",
    "\n",
    "df <- read_csv(url, col_types = cols(\n",
    "  city = col_character(),\n",
    "  year = col_character(),\n",
    "  PM10 = col_double(),\n",
    "  SO2 = col_double(),\n",
    "  NOx = col_double(),\n",
    "  pop_density = col_double(),\n",
    "  GRP_pc = col_double(),\n",
    "  total_gas_supply = col_double(),\n",
    "  green_coveraged = col_double(),\n",
    "  post = col_character(),\n",
    "  key_regions = col_character())\n",
    ") %>% \n",
    "  mutate_if(is.character,as.factor) %>%\n",
    "  mutate(\n",
    "    post = relevel(post, ref = '0'),\n",
    "    key_regions = relevel(key_regions, ref = '0'),\n",
    "    city = relevel(city, ref = 'Kunming'),\n",
    "    year = relevel(year, ref = '2013')\n",
    "  )\n",
    "\n",
    "year <- c(2008,2009,2010,2011,2012,2013,2014,2015,2016,2017)\n",
    "\n",
    "str(df)"
   ]
  },
  {
   "cell_type": "markdown",
   "metadata": {},
   "source": [
    "### Draw graph of air pollution\n",
    "\n",
    "- **Graph of PM10**"
   ]
  },
  {
   "cell_type": "code",
   "execution_count": 3,
   "metadata": {},
   "outputs": [
    {
     "data": {
      "image/png": "[encoded data removed]",
      "text/plain": [
       "plot without title"
      ]
     },
     "metadata": {},
     "output_type": "display_data"
    }
   ],
   "source": [
    "mean_PM10_all <- NULL\n",
    "for (i in year) {\n",
    "  subset_year <- subset(df, year == i)\n",
    "  mean_PM10_all <- c(mean_PM10_all,mean(subset_year$PM10))\n",
    "}\n",
    "mean_PM10_key <- NULL\n",
    "for (i in year) {\n",
    "  subset_year <- subset(df, year == i & key_regions == 1)\n",
    "  mean_PM10_key <- c(mean_PM10_key,mean(subset_year$PM10))\n",
    "}\n",
    "mean_PM10_nokey <- NULL\n",
    "for (i in year) {\n",
    "  subset_year <- subset(df, year == i & key_regions == 0)\n",
    "  mean_PM10_nokey <- c(mean_PM10_nokey,mean(subset_year$PM10))\n",
    "}\n",
    "mean_PM10 <- data.frame(year,mean_PM10_all,mean_PM10_key,mean_PM10_nokey)\n",
    "# set width and height of the plot\n",
    "options(repr.plot.width=8, repr.plot.height=4.5)\n",
    "colors <- c(\"All cities\" = \"blue\", \"Key regions\" = \"red\", \"Other regions\" = \"green\")\n",
    "p1 <- ggplot(data = mean_PM10, aes(x = year)) +\n",
    "  # draw line showing the begining of policy\n",
    "  geom_vline(xintercept = 2013, color = \"darkred\", size = 1.5) +\n",
    "  # draw line\n",
    "  geom_line(aes(y = mean_PM10_all, color = \"All cities\"), size = 1.2) +\n",
    "  geom_line(aes(y = mean_PM10_key, color = \"Key regions\"), size = 1.2) +\n",
    "  geom_line(aes(y = mean_PM10_nokey, color = \"Other regions\"), size = 1.2) +\n",
    "  # draw year point \n",
    "  geom_point(aes(x = year, y = mean_PM10_all, color = \"All cities\"), size = 2) +\n",
    "  geom_point(aes(x = year, y = mean_PM10_key, color = \"Key regions\"), size = 2) +\n",
    "  geom_point(aes(x = year, y = mean_PM10_nokey, color = \"Other regions\"), size = 2) +\n",
    "  # scale and breaks\n",
    "  scale_x_continuous(breaks = seq(2008,2017,1)) +\n",
    "  scale_y_continuous(breaks = seq(80,140,10), limits = c(80,140)) +\n",
    "   # modify xlab, y lab, legend\n",
    "  scale_color_manual(values = colors) +\n",
    "  labs(x = \"Year\",\n",
    "       y = \"(µg/m3)\",\n",
    "       color = \"\") +\n",
    "  theme(axis.title = element_text(size = 16, family = \"serif\"),\n",
    "        axis.text = element_text(size = 13, family = \"serif\"),\n",
    "        axis.line = element_line(color = \"black\"),\n",
    "        legend.text = element_text(size = 12, family = \"serif\"),\n",
    "        legend.key = element_blank(),\n",
    "        panel.grid.major.y = element_line(color = \"black\"),\n",
    "        panel.grid.major.x = element_blank(),\n",
    "        panel.background = element_blank())\n",
    "print(p1)"
   ]
  },
  {
   "cell_type": "markdown",
   "metadata": {},
   "source": [
    "- **Graph of SO2**"
   ]
  },
  {
   "cell_type": "code",
   "execution_count": 4,
   "metadata": {},
   "outputs": [
    {
     "data": {
      "image/png": "[encoded data removed]",
      "text/plain": [
       "plot without title"
      ]
     },
     "metadata": {},
     "output_type": "display_data"
    }
   ],
   "source": [
    "mean_SO2_all <- NULL\n",
    "for (i in year) {\n",
    "  subset_year <- subset(df, year == i)\n",
    "  mean_SO2_all <- c(mean_SO2_all,mean(subset_year$SO2))\n",
    "}\n",
    "mean_SO2_key <- NULL\n",
    "for (i in year) {\n",
    "  subset_year <- subset(df, year == i & key_regions == 1)\n",
    "  mean_SO2_key <- c(mean_SO2_key,mean(subset_year$SO2))\n",
    "}\n",
    "mean_SO2_nokey <- NULL\n",
    "for (i in year) {\n",
    "  subset_year <- subset(df, year == i & key_regions == 0)\n",
    "  mean_SO2_nokey <- c(mean_SO2_nokey,mean(subset_year$SO2))\n",
    "}\n",
    "mean_SO2 <- data.frame(year,mean_SO2_all,mean_SO2_key,mean_SO2_nokey)\n",
    "# set width and height of the plot\n",
    "options(repr.plot.width=8, repr.plot.height=4.5)\n",
    "colors <- c(\"All cities\" = \"blue\", \"Key regions\" = \"red\", \"Other regions\" = \"green\")\n",
    "p2 <- ggplot(data = mean_SO2, aes(x = year)) +\n",
    "  # draw line showing the begining of policy\n",
    "  geom_vline(xintercept = 2013, color = \"darkred\", size = 1.5) +\n",
    "  # draw line\n",
    "  geom_line(aes(y = mean_SO2_all, color = \"All cities\"), size = 1.2) +\n",
    "  geom_line(aes(y = mean_SO2_key, color = \"Key regions\"), size = 1.2) +\n",
    "  geom_line(aes(y = mean_SO2_nokey, color = \"Other regions\"), size = 1.2) +\n",
    "  # draw year point \n",
    "  geom_point(aes(x = year, y = mean_SO2_all, color = \"All cities\"), size = 2) +\n",
    "  geom_point(aes(x = year, y = mean_SO2_key, color = \"Key regions\"), size = 2) +\n",
    "  geom_point(aes(x = year, y = mean_SO2_nokey, color = \"Other regions\"), size = 2) +\n",
    "  # scale and breaks\n",
    "  scale_x_continuous(breaks = seq(2008,2017,1)) +\n",
    "  scale_y_continuous(breaks = seq(10,60,10), limits = c(10,60)) +\n",
    "  # modify xlab, y lab, legend\n",
    "  scale_color_manual(values = colors) +\n",
    "  labs(x = \"Year\",\n",
    "       y = \"(µg/m3)\",\n",
    "       color = \"\") +\n",
    "  theme(axis.title = element_text(size = 16, family = \"serif\"),\n",
    "        axis.text = element_text(size = 13, family = \"serif\"),\n",
    "        axis.line = element_line(color = \"black\"),\n",
    "        legend.text = element_text(size = 12, family = \"serif\"),\n",
    "        legend.key = element_blank(),\n",
    "        panel.grid.major.y = element_line(color = \"black\"),\n",
    "        panel.grid.major.x = element_blank(),\n",
    "        panel.background = element_blank()) \n",
    "print(p2)"
   ]
  },
  {
   "cell_type": "markdown",
   "metadata": {},
   "source": [
    "- **Graph of NOx**"
   ]
  },
  {
   "cell_type": "code",
   "execution_count": 5,
   "metadata": {},
   "outputs": [
    {
     "data": {
      "image/png": "[encoded data removed]",
      "text/plain": [
       "plot without title"
      ]
     },
     "metadata": {},
     "output_type": "display_data"
    }
   ],
   "source": [
    "mean_NOx_all <- NULL\n",
    "for (i in year) {\n",
    "  subset_year <- subset(df, year == i)\n",
    "  mean_NOx_all <- c(mean_NOx_all,mean(subset_year$NOx))\n",
    "}\n",
    "mean_NOx_key <- NULL\n",
    "for (i in year) {\n",
    "  subset_year <- subset(df, year == i & key_regions == 1)\n",
    "  mean_NOx_key <- c(mean_NOx_key,mean(subset_year$NOx))\n",
    "}\n",
    "mean_NOx_nokey <- NULL\n",
    "for (i in year) {\n",
    "  subset_year <- subset(df, year == i & key_regions == 0)\n",
    "  mean_NOx_nokey <- c(mean_NOx_nokey,mean(subset_year$NOx))\n",
    "}\n",
    "mean_NOx <- data.frame(year,mean_NOx_all,mean_NOx_key,mean_NOx_nokey)\n",
    "# set width and height of the plot\n",
    "options(repr.plot.width=8, repr.plot.height=4.5)\n",
    "colors <- c(\"All cities\" = \"blue\", \"Key regions\" = \"red\", \"Other regions\" = \"green\")\n",
    "p3 <- ggplot(data = mean_NOx, aes(x = year)) +\n",
    "  # draw line showing the begining of policy\n",
    "  geom_vline(xintercept = 2013, color = \"darkred\", size = 1.5) +\n",
    "  # draw line\n",
    "  geom_line(aes(y = mean_NOx_all, color = \"All cities\"), size = 1.2) +\n",
    "  geom_line(aes(y = mean_NOx_key, color = \"Key regions\"), size = 1.2) +\n",
    "  geom_line(aes(y = mean_NOx_nokey, color = \"Other regions\"), size = 1.2) +\n",
    "  # draw year point \n",
    "  geom_point(aes(x = year, y = mean_NOx_all, color = \"All cities\"), size = 2) +\n",
    "  geom_point(aes(x = year, y = mean_NOx_key, color = \"Key regions\"), size = 2) +\n",
    "  geom_point(aes(x = year, y = mean_NOx_nokey, color = \"Other regions\"), size = 2) +\n",
    "  # scale and breaks\n",
    "  scale_x_continuous(breaks = seq(2008,2017,1)) +\n",
    "  scale_y_continuous(breaks = seq(30,60,5), limits = c(30,60)) +\n",
    "  # modify xlab, y lab, legend\n",
    "  scale_color_manual(values = colors) +\n",
    "  labs(x = \"Year\",\n",
    "       y = \"(µg/m3)\",\n",
    "       color = \"\") +\n",
    "  theme(axis.title = element_text(size = 16, family = \"serif\"),\n",
    "        axis.text = element_text(size = 13, family = \"serif\"),\n",
    "        axis.line = element_line(color = \"black\"),\n",
    "        legend.text = element_text(size = 12, family = \"serif\"),\n",
    "        legend.key = element_blank(),\n",
    "        panel.grid.major.y = element_line(color = \"black\"),\n",
    "        panel.grid.major.x = element_blank(),\n",
    "        panel.background = element_blank()) \n",
    "print(p3)"
   ]
  },
  {
   "cell_type": "markdown",
   "metadata": {},
   "source": [
    "### Push post forward\n",
    "\n",
    "Normally, **post** (dummy variable for year) begin to be 1 in 2013. But as we see in the graphs, the policy was began to implement on 10th sept 2013 (the dark red vertical line) which means that it hardly had an effect on the level of air pollution in 2013. Therefore, we move post forward one year (**post** = 1 begin in 2014) as the policy is likely to take result from 2014."
   ]
  },
  {
   "cell_type": "code",
   "execution_count": 6,
   "metadata": {},
   "outputs": [],
   "source": [
    "for (i in 1:nrow(df)) {\n",
    "  if (df$year[i] == 2013) {\n",
    "    df$post[i] <- 0\n",
    "  }\n",
    "}\n",
    "for (i in 1:nrow(df_sd)) {\n",
    "  if (df$year[i] == 2013) {\n",
    "    df$post[i] <- 0\n",
    "  }\n",
    "}"
   ]
  },
  {
   "cell_type": "markdown",
   "metadata": {},
   "source": [
    "### Statistics decriptive table"
   ]
  },
  {
   "cell_type": "code",
   "execution_count": 7,
   "metadata": {
    "scrolled": true
   },
   "outputs": [
    {
     "name": "stdout",
     "output_type": "stream",
     "text": [
      "\n",
      "Summary statistics of the variables\n",
      "===========================================================\n",
      "Statistic         N     Mean     St. Dev.   Min      Max   \n",
      "-----------------------------------------------------------\n",
      "PM10             300   99.55      31.88      34      305   \n",
      "SO2              300   35.85      19.54      5       105   \n",
      "NOx              300   42.67      11.00      12      68    \n",
      "pop_density      300   635.20     419.31   130.23 2,294.59 \n",
      "GRP_pc           300 67,856.42  30,150.49  18,025  185,338 \n",
      "total_gas_supply 300 164,394.50 286,955.50 1,966  1,976,114\n",
      "green_coveraged  300   40.09       5.73    24.20    70.30  \n",
      "-----------------------------------------------------------\n"
     ]
    }
   ],
   "source": [
    "stargazer(df_sd, type = \"text\", \n",
    "          title = \"Summary statistics of the variables\", \n",
    "          digits = 2,\n",
    "          omit = c(\"year\",\"post\",\"key_regions\"),\n",
    "          omit.summary.stat = c(\"p25\",\"p75\"))"
   ]
  },
  {
   "cell_type": "markdown",
   "metadata": {},
   "source": [
    "### The differences between the result in key regions and no key regions\n",
    "\n",
    "As we formed our hypothese:\n",
    "\n",
    "**Ho:** \"The more intense policies implemented of key regions are more effective in reducing the air pollution than the less intense policies of others regions\"\n",
    "\n",
    "We should see a bigger reduction in air pollution in key regions than in no key regions. This part calculate those differences."
   ]
  },
  {
   "cell_type": "code",
   "execution_count": 8,
   "metadata": {},
   "outputs": [
    {
     "name": "stdout",
     "output_type": "stream",
     "text": [
      "[1] \"Average Reduction of Pollutant Gas\"\n"
     ]
    },
    {
     "data": {
      "text/html": [
       "<table>\n",
       "<thead><tr><th></th><th scope=col>PM10</th><th scope=col>SO2</th><th scope=col>NOx</th></tr></thead>\n",
       "<tbody>\n",
       "\t<tr><th scope=row>Key regions</th><td>50.75000 </td><td>25.125000</td><td>4.375000 </td></tr>\n",
       "\t<tr><th scope=row>No key regions</th><td>40.13636 </td><td>23.318182</td><td>2.772727 </td></tr>\n",
       "\t<tr><th scope=row>Difference</th><td>10.61364 </td><td> 1.806818</td><td>1.602273 </td></tr>\n",
       "</tbody>\n",
       "</table>\n"
      ],
      "text/latex": [
       "\\begin{tabular}{r|lll}\n",
       "  & PM10 & SO2 & NOx\\\\\n",
       "\\hline\n",
       "\tKey regions & 50.75000  & 25.125000 & 4.375000 \\\\\n",
       "\tNo key regions & 40.13636  & 23.318182 & 2.772727 \\\\\n",
       "\tDifference & 10.61364  &  1.806818 & 1.602273 \\\\\n",
       "\\end{tabular}\n"
      ],
      "text/markdown": [
       "\n",
       "| <!--/--> | PM10 | SO2 | NOx |\n",
       "|---|---|---|---|\n",
       "| Key regions | 50.75000  | 25.125000 | 4.375000  |\n",
       "| No key regions | 40.13636  | 23.318182 | 2.772727  |\n",
       "| Difference | 10.61364  |  1.806818 | 1.602273  |\n",
       "\n"
      ],
      "text/plain": [
       "               PM10     SO2       NOx     \n",
       "Key regions    50.75000 25.125000 4.375000\n",
       "No key regions 40.13636 23.318182 2.772727\n",
       "Difference     10.61364  1.806818 1.602273"
      ]
     },
     "metadata": {},
     "output_type": "display_data"
    }
   ],
   "source": [
    "# Create subset of year and key regions\n",
    "df_key_2017 <- subset(df, key_regions == 1 & year == 2017)\n",
    "df_key_2013 <- subset(df, key_regions == 1 & year == 2013)\n",
    "df_nokey_2017 <- subset(df, key_regions == 0 & year == 2017)\n",
    "df_nokey_2013 <- subset(df, key_regions == 0 & year == 2013)\n",
    "\n",
    "# PM10: Ok\n",
    "key_PM10_2017 <- mean(df_key_2017$PM10)\n",
    "key_PM10_2013 <- mean(df_key_2013$PM10)\n",
    "nokey_PM10_2017 <- mean(df_nokey_2017$PM10)\n",
    "nokey_PM10_2013 <- mean(df_nokey_2013$PM10)\n",
    "diff_PM10_key <- (key_PM10_2013 - key_PM10_2017)\n",
    "diff_PM10_nokey <- (nokey_PM10_2013 - nokey_PM10_2017)\n",
    "did_PM10 <- (diff_PM10_key - diff_PM10_nokey)\n",
    "\n",
    "#SO2: Ok\n",
    "key_SO2_2017 <- mean(df_key_2017$SO2)\n",
    "key_SO2_2013 <- mean(df_key_2013$SO2)\n",
    "nokey_SO2_2017 <- mean(df_nokey_2017$SO2)\n",
    "nokey_SO2_2013 <- mean(df_nokey_2013$SO2)\n",
    "diff_SO2_key <- (key_SO2_2013 - key_SO2_2017)\n",
    "diff_SO2_nokey <- (nokey_SO2_2013 - nokey_SO2_2017)\n",
    "did_SO2 <- (diff_SO2_key - diff_SO2_nokey)\n",
    "\n",
    "#NOx: Ok\n",
    "key_NOx_2017 <- mean(df_key_2017$NOx)\n",
    "key_NOx_2013 <- mean(df_key_2013$NOx)\n",
    "nokey_NOx_2017 <- mean(df_nokey_2017$NOx)\n",
    "nokey_NOx_2013 <- mean(df_nokey_2013$NOx)\n",
    "diff_NOx_key <- (key_NOx_2013 - key_NOx_2017)\n",
    "diff_NOx_nokey <- (nokey_NOx_2013 - nokey_NOx_2017)\n",
    "did_NOx <- (diff_NOx_key - diff_NOx_nokey)\n",
    "\n",
    "# Means table for DiD\n",
    "diff_matrix <- matrix(c(diff_PM10_key,diff_SO2_key,diff_NOx_key,\n",
    "                        diff_PM10_nokey,diff_SO2_nokey,diff_NOx_nokey,\n",
    "                        did_PM10,did_SO2,did_NOx),\n",
    "                      ncol = 3,\n",
    "                      byrow = TRUE,\n",
    "                      dimnames = list(c(\"Key regions\",\"No key regions\",\"Difference\"),\n",
    "                                      c(\"PM10\",\"SO2\",\"NOx\")))\n",
    "print(\"Average Reduction of Pollutant Gas\")\n",
    "xtable(diff_matrix, \n",
    "       caption = \"Average Reduction of Pollutant Gas\",\n",
    "       digits = 2)"
   ]
  },
  {
   "cell_type": "markdown",
   "metadata": {},
   "source": [
    "**Confirmed** that the reductions in key regions are bigger than no key regions"
   ]
  },
  {
   "cell_type": "markdown",
   "metadata": {},
   "source": [
    "### Model Diff in Diff \n",
    "\n",
    "As we want to test the hypothese **Ho**, we use the model diff in diff to test if the effectiveness of the policy in key regions is significantly different from the effectiveness of the policy in no key regions:\n",
    "\n",
    "$$\\text { ln } \\mathrm{Y}_{c t}=\\beta_{1} \\text{ Post}_{t}+\\beta_{2} \\text{ Key regions}_{c}+\\beta_{3} \\text{ Post}_{t} \\times \\text{ Key regions}_{c}+X_{c t}+\\gamma_{c}+\\gamma_{t}+\\epsilon_{c t}$$\n",
    "\n",
    "${Y}_{c t}$ is the level of concentration of each pollutant gas"
   ]
  },
  {
   "cell_type": "markdown",
   "metadata": {},
   "source": [
    "#### Model PM10"
   ]
  },
  {
   "cell_type": "markdown",
   "metadata": {},
   "source": [
    "- **DiD with city and year fixed effect**"
   ]
  },
  {
   "cell_type": "code",
   "execution_count": 9,
   "metadata": {},
   "outputs": [
    {
     "data": {
      "text/plain": [
       "Twoways effects Within Model\n",
       "\n",
       "Call:\n",
       "plm(formula = log(PM10) ~ post + key_regions + post * key_regions + \n",
       "    log(pop_density) + log(GRP_pc) + log(total_gas_supply) + \n",
       "    green_coveraged, data = df, effect = \"twoways\", model = \"within\", \n",
       "    index = c(\"city\", \"year\"))\n",
       "\n",
       "Balanced Panel: n = 30, T = 10, N = 300\n",
       "\n",
       "Residuals:\n",
       "      Min.    1st Qu.     Median    3rd Qu.       Max. \n",
       "-0.3291661 -0.0709019  0.0071825  0.0771800  0.5159116 \n",
       "\n",
       "Coefficients:\n",
       "                        Estimate Std. Error t-value  Pr(>|t|)    \n",
       "log(pop_density)       0.4038622  0.1764633  2.2886 0.0229150 *  \n",
       "log(GRP_pc)           -0.2750976  0.0776398 -3.5433 0.0004696 ***\n",
       "log(total_gas_supply)  0.0162029  0.0174913  0.9263 0.3551411    \n",
       "green_coveraged        0.0010308  0.0018069  0.5705 0.5688587    \n",
       "post1:key_regions1    -0.1031311  0.0354910 -2.9058 0.0039832 ** \n",
       "---\n",
       "Signif. codes:  0 '***' 0.001 '**' 0.01 '*' 0.05 '.' 0.1 ' ' 1\n",
       "\n",
       "Total Sum of Squares:    4.4145\n",
       "Residual Sum of Squares: 4.0781\n",
       "R-Squared:      0.076196\n",
       "Adj. R-Squared: -0.078974\n",
       "F-statistic: 4.22303 on 5 and 256 DF, p-value: 0.0010478"
      ]
     },
     "metadata": {},
     "output_type": "display_data"
    }
   ],
   "source": [
    "model_did_PM10_all <- plm(log(PM10) ~ post + key_regions + post*key_regions +\n",
    "                            log(pop_density) + log(GRP_pc) + log(total_gas_supply) + green_coveraged,\n",
    "                          data = df,\n",
    "                          index = c(\"city\",\"year\"),\n",
    "                          model = \"within\",\n",
    "                          effect = \"twoways\"\n",
    ")\n",
    "summary(model_did_PM10_all)"
   ]
  },
  {
   "cell_type": "markdown",
   "metadata": {},
   "source": [
    "- **Bootstraping and Clustering**"
   ]
  },
  {
   "cell_type": "code",
   "execution_count": 10,
   "metadata": {},
   "outputs": [
    {
     "name": "stdout",
     "output_type": "stream",
     "text": [
      "  |======================================================================| 100%\n",
      "\n",
      " Cluster Bootstrap p-values:  \n",
      " \n",
      "            variable name   cluster bootstrap p-value\n",
      "         log(pop_density)                       0.187\n",
      "              log(GRP_pc)                       0.022\n",
      "    log(total_gas_supply)                       0.541\n",
      "          green_coveraged                       0.565\n",
      "       post1:key_regions1                       0.098\n",
      "\n",
      " Confidence Intervals (derived from bootstrapped t-statistics):  \n",
      " \n",
      "        variable name                CI lower               CI higher\n",
      "     log(pop_density)      -0.201862276901178        1.00958669640514\n",
      "          log(GRP_pc)      -0.499842228160726     -0.0503529476399959\n",
      "log(total_gas_supply)     -0.0473297278880797      0.0797355868085538\n",
      "      green_coveraged      -0.002542103772198     0.00460361802247909\n",
      "   post1:key_regions1      -0.225518108209712      0.0192558855727767\n",
      "\n",
      "\n",
      "****Note: 1 variables were unidentified in the model and are not reported.****\n",
      "Variables not reported:\n",
      "post, key_regions\n",
      " \n"
     ]
    }
   ],
   "source": [
    "coef_bsed_clustered_PM10 <- cluster.bs.plm(mod = model_did_PM10_all, dat = df, cluster = \"group\",\n",
    "               ci.level = 0.95, boot.reps = 1000, cluster.se = TRUE,\n",
    "               report = TRUE, prog.bar = TRUE)"
   ]
  },
  {
   "cell_type": "markdown",
   "metadata": {},
   "source": [
    "- **Using felm (to get full R2)**"
   ]
  },
  {
   "cell_type": "code",
   "execution_count": 14,
   "metadata": {},
   "outputs": [
    {
     "name": "stderr",
     "output_type": "stream",
     "text": [
      "Warning message in chol.default(mat, pivot = TRUE, tol = tol):\n",
      "\"the matrix is either rank-deficient or indefinite\"Warning message in chol.default(mat, pivot = TRUE, tol = tol):\n",
      "\"the matrix is either rank-deficient or indefinite\""
     ]
    },
    {
     "data": {
      "text/html": [
       "0.868529445497971"
      ],
      "text/latex": [
       "0.868529445497971"
      ],
      "text/markdown": [
       "0.868529445497971"
      ],
      "text/plain": [
       "[1] 0.8685294"
      ]
     },
     "metadata": {},
     "output_type": "display_data"
    }
   ],
   "source": [
    "model_did_PM10_all_fle <- felm(formula=log(PM10) ~ post *  key_regions + \n",
    "                             log(pop_density) + log(GRP_pc) + log(total_gas_supply) + green_coveraged|\n",
    "                             city + year| 0 |FALSE, data = df, exactDOF=TRUE)\n",
    "summary(model_did_PM10_all_fle)$r2"
   ]
  },
  {
   "cell_type": "markdown",
   "metadata": {},
   "source": [
    "#### Model SO2"
   ]
  },
  {
   "cell_type": "markdown",
   "metadata": {},
   "source": [
    "- **DiD with city and year fixed effects**"
   ]
  },
  {
   "cell_type": "code",
   "execution_count": 15,
   "metadata": {},
   "outputs": [
    {
     "data": {
      "text/plain": [
       "Twoways effects Within Model\n",
       "\n",
       "Call:\n",
       "plm(formula = log(SO2) ~ post + key_regions + post * key_regions + \n",
       "    log(pop_density) + log(GRP_pc) + log(total_gas_supply) + \n",
       "    green_coveraged, data = df, effect = \"twoways\", model = \"within\", \n",
       "    index = c(\"city\", \"year\"))\n",
       "\n",
       "Balanced Panel: n = 30, T = 10, N = 300\n",
       "\n",
       "Residuals:\n",
       "      Min.    1st Qu.     Median    3rd Qu.       Max. \n",
       "-0.6925883 -0.1612468 -0.0051443  0.1677157  0.6128060 \n",
       "\n",
       "Coefficients:\n",
       "                        Estimate Std. Error t-value Pr(>|t|)   \n",
       "log(pop_density)       0.0578192  0.3596398  0.1608 0.872402   \n",
       "log(GRP_pc)           -0.4850833  0.1582333 -3.0656 0.002405 **\n",
       "log(total_gas_supply)  0.0141892  0.0356480  0.3980 0.690935   \n",
       "green_coveraged        0.0010290  0.0036824  0.2794 0.780141   \n",
       "post1:key_regions1    -0.1508786  0.0723322 -2.0859 0.037977 * \n",
       "---\n",
       "Signif. codes:  0 '***' 0.001 '**' 0.01 '*' 0.05 '.' 0.1 ' ' 1\n",
       "\n",
       "Total Sum of Squares:    17.674\n",
       "Residual Sum of Squares: 16.939\n",
       "R-Squared:      0.041598\n",
       "Adj. R-Squared: -0.11938\n",
       "F-statistic: 2.22225 on 5 and 256 DF, p-value: 0.052578"
      ]
     },
     "metadata": {},
     "output_type": "display_data"
    }
   ],
   "source": [
    "model_did_SO2_all <- plm(log(SO2) ~ post + key_regions + post*key_regions +\n",
    "                            log(pop_density) + log(GRP_pc) + log(total_gas_supply) + green_coveraged,\n",
    "                          data = df,\n",
    "                          index = c(\"city\",\"year\"),\n",
    "                          model = \"within\",\n",
    "                          effect = \"twoways\"\n",
    ")\n",
    "summary(model_did_SO2_all)"
   ]
  },
  {
   "cell_type": "markdown",
   "metadata": {},
   "source": [
    "- **Bootstraping and Clustering**"
   ]
  },
  {
   "cell_type": "code",
   "execution_count": 16,
   "metadata": {},
   "outputs": [
    {
     "name": "stdout",
     "output_type": "stream",
     "text": [
      "  |======================================================================| 100%\n",
      "\n",
      " Cluster Bootstrap p-values:  \n",
      " \n",
      "            variable name   cluster bootstrap p-value\n",
      "         log(pop_density)                       0.938\n",
      "              log(GRP_pc)                       0.055\n",
      "    log(total_gas_supply)                       0.761\n",
      "          green_coveraged                       0.806\n",
      "       post1:key_regions1                       0.308\n",
      "\n",
      " Confidence Intervals (derived from bootstrapped t-statistics):  \n",
      " \n",
      "        variable name                CI lower               CI higher\n",
      "     log(pop_density)       -1.61759213884349        1.73323044519959\n",
      "          log(GRP_pc)      -0.987825158442299      0.0176585622472101\n",
      "log(total_gas_supply)      -0.116109941800872       0.144488412028761\n",
      "      green_coveraged    -0.00691363803914518     0.00897159840976783\n",
      "   post1:key_regions1      -0.433723591912684       0.131966392013067\n",
      "\n",
      "\n",
      "****Note: 1 variables were unidentified in the model and are not reported.****\n",
      "Variables not reported:\n",
      "post, key_regions\n",
      " \n"
     ]
    }
   ],
   "source": [
    "coef_bsed_clustered_SO2 <- cluster.bs.plm(mod = model_did_SO2_all, dat = df, cluster = \"group\",\n",
    "                                           ci.level = 0.95, boot.reps = 1000, cluster.se = TRUE,\n",
    "                                           report = TRUE, prog.bar = TRUE)"
   ]
  },
  {
   "cell_type": "markdown",
   "metadata": {},
   "source": [
    "- **Using felm (to get full R2)**"
   ]
  },
  {
   "cell_type": "code",
   "execution_count": 17,
   "metadata": {},
   "outputs": [
    {
     "name": "stderr",
     "output_type": "stream",
     "text": [
      "Warning message in chol.default(mat, pivot = TRUE, tol = tol):\n",
      "\"the matrix is either rank-deficient or indefinite\"Warning message in chol.default(mat, pivot = TRUE, tol = tol):\n",
      "\"the matrix is either rank-deficient or indefinite\""
     ]
    },
    {
     "data": {
      "text/html": [
       "0.860044762939495"
      ],
      "text/latex": [
       "0.860044762939495"
      ],
      "text/markdown": [
       "0.860044762939495"
      ],
      "text/plain": [
       "[1] 0.8600448"
      ]
     },
     "metadata": {},
     "output_type": "display_data"
    }
   ],
   "source": [
    "model_did_SO2_all_fle <- felm(formula=log(SO2) ~ post *  key_regions + \n",
    "                                 log(pop_density) + log(GRP_pc) + log(total_gas_supply) + green_coveraged|\n",
    "                                 city + year| 0 |FALSE, data = df, exactDOF=TRUE)\n",
    "summary(model_did_SO2_all_fle)$r2"
   ]
  },
  {
   "cell_type": "markdown",
   "metadata": {},
   "source": [
    "#### Model NOx"
   ]
  },
  {
   "cell_type": "markdown",
   "metadata": {},
   "source": [
    "- **DiD with city and year fixed effects**"
   ]
  },
  {
   "cell_type": "code",
   "execution_count": 18,
   "metadata": {},
   "outputs": [
    {
     "data": {
      "text/plain": [
       "Twoways effects Within Model\n",
       "\n",
       "Call:\n",
       "plm(formula = log(NOx) ~ post + key_regions + post * key_regions + \n",
       "    log(pop_density) + log(GRP_pc) + log(total_gas_supply) + \n",
       "    green_coveraged, data = df, effect = \"twoways\", model = \"within\", \n",
       "    index = c(\"city\", \"year\"))\n",
       "\n",
       "Balanced Panel: n = 30, T = 10, N = 300\n",
       "\n",
       "Residuals:\n",
       "      Min.    1st Qu.     Median    3rd Qu.       Max. \n",
       "-0.5226998 -0.0782206 -0.0068066  0.0842335  0.5285372 \n",
       "\n",
       "Coefficients:\n",
       "                        Estimate Std. Error t-value Pr(>|t|)\n",
       "log(pop_density)      -0.0759781  0.2152013 -0.3531   0.7243\n",
       "log(GRP_pc)           -0.1230571  0.0946837 -1.2997   0.1949\n",
       "log(total_gas_supply)  0.0089577  0.0213311  0.4199   0.6749\n",
       "green_coveraged        0.0032834  0.0022035  1.4901   0.1374\n",
       "post1:key_regions1    -0.0449047  0.0432821 -1.0375   0.3005\n",
       "\n",
       "Total Sum of Squares:    6.1765\n",
       "Residual Sum of Squares: 6.0651\n",
       "R-Squared:      0.018029\n",
       "Adj. R-Squared: -0.14691\n",
       "F-statistic: 0.940012 on 5 and 256 DF, p-value: 0.45557"
      ]
     },
     "metadata": {},
     "output_type": "display_data"
    }
   ],
   "source": [
    "model_did_NOx_all <- plm(log(NOx) ~ post + key_regions + post*key_regions +\n",
    "                           log(pop_density) + log(GRP_pc) + log(total_gas_supply) + green_coveraged,\n",
    "                         data = df,\n",
    "                         index = c(\"city\",\"year\"),\n",
    "                         model = \"within\",\n",
    "                         effect = \"twoways\"\n",
    ")\n",
    "summary(model_did_NOx_all)"
   ]
  },
  {
   "cell_type": "markdown",
   "metadata": {},
   "source": [
    "- **Bootstraping and Clustering**"
   ]
  },
  {
   "cell_type": "code",
   "execution_count": 19,
   "metadata": {},
   "outputs": [
    {
     "name": "stdout",
     "output_type": "stream",
     "text": [
      "  |======================================================================| 100%\n",
      "\n",
      " Cluster Bootstrap p-values:  \n",
      " \n",
      "            variable name   cluster bootstrap p-value\n",
      "         log(pop_density)                       0.812\n",
      "              log(GRP_pc)                       0.467\n",
      "    log(total_gas_supply)                       0.741\n",
      "          green_coveraged                       0.053\n",
      "       post1:key_regions1                       0.633\n",
      "\n",
      " Confidence Intervals (derived from bootstrapped t-statistics):  \n",
      " \n",
      "        variable name                CI lower               CI higher\n",
      "     log(pop_density)      -0.912080946464786       0.760124691895795\n",
      "          log(GRP_pc)       -0.47931082058831       0.233196562843006\n",
      "log(total_gas_supply)     -0.0760353567651033       0.093950671824459\n",
      "      green_coveraged   -1.88983098329764e-05     0.00658573586316118\n",
      "   post1:key_regions1      -0.226281685807868       0.136472343111427\n",
      "\n",
      "\n",
      "****Note: 1 variables were unidentified in the model and are not reported.****\n",
      "Variables not reported:\n",
      "post, key_regions\n",
      " \n"
     ]
    }
   ],
   "source": [
    "coef_bsed_clustered_NOx <- cluster.bs.plm(mod = model_did_NOx_all, dat = df, cluster = \"group\",\n",
    "                                          ci.level = 0.95, boot.reps = 1000, cluster.se = TRUE,\n",
    "                                          report = TRUE, prog.bar = TRUE)"
   ]
  },
  {
   "cell_type": "markdown",
   "metadata": {},
   "source": [
    "- **Using felm (to get full R2)**"
   ]
  },
  {
   "cell_type": "code",
   "execution_count": 20,
   "metadata": {},
   "outputs": [
    {
     "name": "stderr",
     "output_type": "stream",
     "text": [
      "Warning message in chol.default(mat, pivot = TRUE, tol = tol):\n",
      "\"the matrix is either rank-deficient or indefinite\"Warning message in chol.default(mat, pivot = TRUE, tol = tol):\n",
      "\"the matrix is either rank-deficient or indefinite\""
     ]
    },
    {
     "data": {
      "text/html": [
       "0.777039662086898"
      ],
      "text/latex": [
       "0.777039662086898"
      ],
      "text/markdown": [
       "0.777039662086898"
      ],
      "text/plain": [
       "[1] 0.7770397"
      ]
     },
     "metadata": {},
     "output_type": "display_data"
    }
   ],
   "source": [
    "model_did_NOx_all_fle <- felm(formula=log(NOx) ~ post *  key_regions + \n",
    "                                 log(pop_density) + log(GRP_pc) + log(total_gas_supply) + green_coveraged|\n",
    "                                 city + year| 0 |FALSE, data = df, exactDOF=TRUE)\n",
    "summary(model_did_NOx_all_fle)$r2"
   ]
  },
  {
   "cell_type": "markdown",
   "metadata": {},
   "source": [
    "### Table for regression"
   ]
  },
  {
   "cell_type": "markdown",
   "metadata": {},
   "source": [
    "#### No bootstrapped and clustered"
   ]
  },
  {
   "cell_type": "code",
   "execution_count": 21,
   "metadata": {},
   "outputs": [
    {
     "name": "stdout",
     "output_type": "stream",
     "text": [
      "\n",
      "Difference-in-Differences model with city and year fixed effects\n",
      "=======================================================\n",
      "                               Dependent variable:     \n",
      "                          -----------------------------\n",
      "                          log(PM10)  log(SO2)  log(NOx)\n",
      "                             (1)        (2)      (3)   \n",
      "-------------------------------------------------------\n",
      "post*key_regions          -0.103***  -0.151**   -0.045 \n",
      "                           (0.035)    (0.072)  (0.043) \n",
      "                                                       \n",
      "log(pop_density)           0.404**     0.058    -0.076 \n",
      "                           (0.176)    (0.360)  (0.215) \n",
      "                                                       \n",
      "log(GRP_pc)               -0.275***  -0.485***  -0.123 \n",
      "                           (0.078)    (0.158)  (0.095) \n",
      "                                                       \n",
      "log(gas_supply)             0.016      0.014    0.009  \n",
      "                           (0.017)    (0.036)  (0.021) \n",
      "                                                       \n",
      "green_coveraged             0.001      0.001    0.003  \n",
      "                           (0.002)    (0.004)  (0.002) \n",
      "                                                       \n",
      "-------------------------------------------------------\n",
      "Observations                 300        300      300   \n",
      "R2                          0.076      0.042    0.018  \n",
      "F Statistic (df = 5; 256)  4.223***   2.222*    0.940  \n",
      "=======================================================\n",
      "Note:                       *p<0.1; **p<0.05; ***p<0.01\n"
     ]
    }
   ],
   "source": [
    "stargazer(model_did_PM10_all, model_did_SO2_all, model_did_NOx_all, \n",
    "          title = \"Difference-in-Differences model with city and year fixed effects\",\n",
    "          type = \"text\",\n",
    "          align = TRUE,\n",
    "          # set covariate variable name\n",
    "          covariate.labels = c(\"post*key\\\\_regions\",\"log(pop\\\\_density)\",\n",
    "                               \"log(GRP\\\\_pc)\",\"log(gas\\\\_supply)\",\"green\\\\_coveraged\"),\n",
    "          # set covariate variable order\n",
    "          order = c(5,1,2,3,4),\n",
    "          omit.stat = c(\"adj.rsq\"))"
   ]
  },
  {
   "cell_type": "markdown",
   "metadata": {},
   "source": [
    "#### Bootstrapped and clustered"
   ]
  },
  {
   "cell_type": "code",
   "execution_count": 22,
   "metadata": {},
   "outputs": [
    {
     "name": "stdout",
     "output_type": "stream",
     "text": [
      "\n",
      "Difference-in-Differences model with city and year fixed effects\n",
      "=======================================================\n",
      "                               Dependent variable:     \n",
      "                          -----------------------------\n",
      "                          log(PM10)  log(SO2)  log(NOx)\n",
      "                             (1)        (2)      (3)   \n",
      "-------------------------------------------------------\n",
      "post*key_regions           -0.103*    -0.151    -0.045 \n",
      "                           (0.035)    (0.072)  (0.043) \n",
      "                                                       \n",
      "log(pop_density)            0.404      0.058    -0.076 \n",
      "                           (0.176)    (0.360)  (0.215) \n",
      "                                                       \n",
      "log(GRP_pc)                -0.275**   -0.485*   -0.123 \n",
      "                           (0.078)    (0.158)  (0.095) \n",
      "                                                       \n",
      "log(gas_supply)             0.016      0.014    0.009  \n",
      "                           (0.017)    (0.036)  (0.021) \n",
      "                                                       \n",
      "green_coveraged             0.001      0.001    0.003* \n",
      "                           (0.002)    (0.004)  (0.002) \n",
      "                                                       \n",
      "-------------------------------------------------------\n",
      "Observations                 300        300      300   \n",
      "R2                          0.076      0.042    0.018  \n",
      "F Statistic (df = 5; 256)  4.223***   2.222*    0.940  \n",
      "=======================================================\n",
      "Note:                       *p<0.1; **p<0.05; ***p<0.01\n"
     ]
    }
   ],
   "source": [
    "stargazer(model_did_PM10_all, model_did_SO2_all, model_did_NOx_all, \n",
    "          title = \"Difference-in-Differences model with city and year fixed effects\",\n",
    "          type = \"text\",\n",
    "          align = TRUE,\n",
    "          p = list(coef_bsed_clustered_PM10$p.values,\n",
    "                   coef_bsed_clustered_SO2$p.values,\n",
    "                   coef_bsed_clustered_NOx$p.values),\n",
    "          # set covariate variable name\n",
    "          covariate.labels = c(\"post*key\\\\_regions\",\"log(pop\\\\_density)\",\n",
    "                               \"log(GRP\\\\_pc)\",\"log(gas\\\\_supply)\",\"green\\\\_coveraged\"),\n",
    "          # set covariate variable order\n",
    "          order = c(5,1,2,3,4),\n",
    "          omit.stat = c(\"adj.rsq\"))"
   ]
  },
  {
   "cell_type": "markdown",
   "metadata": {},
   "source": [
    "Here we see that for PM10, the **post x key regions** is significant (p<0.1) and negative\n",
    "=> **Ho** est accepted for PM10"
   ]
  },
  {
   "cell_type": "markdown",
   "metadata": {},
   "source": [
    "### Robustness test: Parallel trend assumption\n",
    "\n",
    "We test the parallel trend assumption using model:\n",
    "\n",
    "$$\\text { ln } \\mathrm{Y}_{c t}=\\sum_{t=2008}^{2017} \\beta_{t} \\text{ Key regions}_{c} { * } \\gamma_{t}+X_{c t}+\\delta_{c}+\\gamma_{t}+\\varepsilon_{c t}$$\n",
    "\n",
    "**note:** for the theory of parallel trend assumption check the [article](https://drive.google.com/file/d/1sGOhZEliCDLpszyuVlgXfM4Xu_KCB5Q9/view?usp=sharing) of Pischke"
   ]
  },
  {
   "cell_type": "code",
   "execution_count": 23,
   "metadata": {},
   "outputs": [
    {
     "data": {
      "text/plain": [
       "Twoways effects Within Model\n",
       "\n",
       "Call:\n",
       "plm(formula = log(PM10) ~ year + key_regions + year * key_regions + \n",
       "    log(pop_density) + log(GRP_pc) + log(total_gas_supply) + \n",
       "    green_coveraged, data = df, effect = \"twoways\", model = \"within\", \n",
       "    index = c(\"city\", \"year\"))\n",
       "\n",
       "Balanced Panel: n = 30, T = 10, N = 300\n",
       "\n",
       "Residuals:\n",
       "      Min.    1st Qu.     Median    3rd Qu.       Max. \n",
       "-0.3250799 -0.0711671  0.0035788  0.0773349  0.5094337 \n",
       "\n",
       "Coefficients:\n",
       "                        Estimate Std. Error t-value Pr(>|t|)    \n",
       "log(pop_density)       0.3923290  0.1797772  2.1823 0.030026 *  \n",
       "log(GRP_pc)           -0.3037091  0.0812912 -3.7361 0.000232 ***\n",
       "log(total_gas_supply)  0.0160145  0.0177765  0.9009 0.368527    \n",
       "green_coveraged        0.0012692  0.0018497  0.6861 0.493260    \n",
       "year2008:key_regions1  0.0596624  0.0755492  0.7897 0.430449    \n",
       "year2009:key_regions1  0.0147695  0.0748172  0.1974 0.843670    \n",
       "year2010:key_regions1 -0.0093199  0.0749874 -0.1243 0.901189    \n",
       "year2011:key_regions1 -0.0230775  0.0752898 -0.3065 0.759470    \n",
       "year2012:key_regions1 -0.0527359  0.0756696 -0.6969 0.486504    \n",
       "year2014:key_regions1 -0.0564244  0.0762574 -0.7399 0.460048    \n",
       "year2015:key_regions1 -0.1225991  0.0765917 -1.6007 0.110720    \n",
       "year2016:key_regions1 -0.1269416  0.0763287 -1.6631 0.097558 .  \n",
       "year2017:key_regions1 -0.1291051  0.0767165 -1.6829 0.093656 .  \n",
       "---\n",
       "Signif. codes:  0 '***' 0.001 '**' 0.01 '*' 0.05 '.' 0.1 ' ' 1\n",
       "\n",
       "Total Sum of Squares:    4.4145\n",
       "Residual Sum of Squares: 4.0172\n",
       "R-Squared:      0.090004\n",
       "Adj. R-Squared: -0.097132\n",
       "F-statistic: 1.88683 on 13 and 248 DF, p-value: 0.03204"
      ]
     },
     "metadata": {},
     "output_type": "display_data"
    }
   ],
   "source": [
    "robust_PM10 <- plm(log(PM10) ~ year + key_regions + year*key_regions +\n",
    "                     log(pop_density) + log(GRP_pc) + log(total_gas_supply) + green_coveraged,\n",
    "                      data = df,\n",
    "                      index = c(\"city\",\"year\"),\n",
    "                      model = \"within\",\n",
    "                      effect = \"twoways\"\n",
    ")\n",
    "summary(robust_PM10)\n",
    "\n",
    "key_year <- c(\"key_2008\",\"key_2009\",\"key_2010\",\"key_2011\",\"key_2012\",\"key_2013\",\"key_2014\",\"key_2015\",\"key_2016\",\"key_2017\")"
   ]
  },
  {
   "cell_type": "markdown",
   "metadata": {},
   "source": [
    "- **Graph of Robust test for PM10**: with the 90% confidence interval"
   ]
  },
  {
   "cell_type": "code",
   "execution_count": 24,
   "metadata": {},
   "outputs": [
    {
     "name": "stderr",
     "output_type": "stream",
     "text": [
      "Warning message:\n",
      "\"Removed 1 rows containing missing values (geom_point).\"Warning message:\n",
      "\"Removed 1 rows containing missing values (geom_errorbar).\""
     ]
    },
    {
     "data": {
      "image/png": "[encoded data removed]",
      "text/plain": [
       "plot without title"
      ]
     },
     "metadata": {},
     "output_type": "display_data"
    }
   ],
   "source": [
    "confint_PM10 <- confint(robust_PM10, level = 0.9)\n",
    "for (i in 1:4){\n",
    "  confint_PM10 <- confint_PM10[-1,]\n",
    "}\n",
    "\n",
    "coef_robust_PM10 <-NULL\n",
    "for (i in 2008:2016){\n",
    "  coef_robust_PM10 <- c(coef_robust_PM10,robust_PM10$coefficients[i-2003])\n",
    "}\n",
    "coef_robust_PM10 <- data.frame(coef_robust_PM10)\n",
    "\n",
    "df_robust_PM10 <- data.frame(confint_PM10,coef_robust_PM10)\n",
    "dt_robust_PM10 <- data.table(df_robust_PM10)\n",
    "dt_robust_PM10 <- rbindlist(list(dt_robust_PM10[1:5, ], as.list(c(NA,NA,NA)), dt_robust_PM10[6:9, ]))\n",
    "df_robust_PM10 <- data.frame(key_year,dt_robust_PM10)\n",
    "colnames(df_robust_PM10) <- c(\"key_year\",\"x5\",\"x95\",\"coef\")\n",
    "\n",
    "### Draw robust test graph\n",
    "ggplot(df_robust_PM10, aes(x = key_year, y = coef)) +\n",
    "  # draw line showing the begining of policy\n",
    "  geom_hline(yintercept = 0, color = \"red\", size = 1) +\n",
    "  geom_point(size = 3) +\n",
    "  geom_errorbar(aes(ymin = x5, ymax = x95), width = 0.25) +\n",
    "  scale_y_continuous(breaks = seq(-0.4,0.4,0.1), limits = c(-0.4,0.4)) +\n",
    "  labs(x = \"\",\n",
    "       y = \"\") +\n",
    "  # parameter graph\n",
    "  theme(axis.text.x = element_text(size = 13, family = \"serif\", angle = 45, hjust = 1),\n",
    "        axis.text.y = element_text(size = 13, family = \"serif\"),\n",
    "        axis.line = element_line(color = \"black\"),\n",
    "        legend.position = \"none\",\n",
    "        panel.grid.major.y = element_blank(),\n",
    "        panel.grid.major.x = element_blank(),\n",
    "        panel.background = element_blank()) "
   ]
  },
  {
   "cell_type": "markdown",
   "metadata": {},
   "source": [
    "Coef is not significant before 2013 and become more and more significant after 2013 => **model is robust**"
   ]
  }
 ],
 "metadata": {
  "kernelspec": {
   "display_name": "R",
   "language": "R",
   "name": "ir"
  },
  "language_info": {
   "codemirror_mode": "r",
   "file_extension": ".r",
   "mimetype": "text/x-r-source",
   "name": "R",
   "pygments_lexer": "r",
   "version": "3.6.1"
  }
 },
 "nbformat": 4,
 "nbformat_minor": 4
}
